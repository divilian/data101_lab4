{
 "cells": [
  {
   "cell_type": "markdown",
   "id": "5ee135",
   "metadata": {
    "collapsed": false
   },
   "source": [
    "# Lab Four\n",
    "Welcome to DATA 101 lab four. This lab is **individual**, rather than team-based, and is to be completed **on your own**. This lab will be collected on **Friday, October 16 at 11:59pm**. Good luck!"
   ]
  },
  {
   "cell_type": "markdown",
   "id": "d52f02",
   "metadata": {
    "collapsed": false
   },
   "source": [
    "# Who are you, anyway?\n",
    "In the cell below, create a NumPy array called `me_and_my_friend` with three elements: your first name, your last name, and the name of the imaginary friend you had as a child, in that order. (If you had no imaginary friend, create an imaginary friend now and name him/her/it. It's therapeutic.)"
   ]
  },
  {
   "cell_type": "code",
   "execution_count": 0,
   "id": "8c3fce",
   "metadata": {
    "collapsed": false
   },
   "outputs": [
   ],
   "source": [
   ]
  },
  {
   "cell_type": "markdown",
   "id": "823ea9",
   "metadata": {
    "collapsed": false
   },
   "source": [
    "# The most fuego of all (and the dumbest of the dumb)\n",
    "In your lab directory/folder, there are two files called `cool_slang.txt` and `dumb_slang.txt`. They contain the votes you and your classmates gave for the slang words in lab \\#3: each line of `cool_slang.txt` contains some team's vote for a cool slang word, and each line of `dumb_slang.txt` was a word some team thought was dumb.\n",
    "\n",
    "Read these both into Python as NumPy arrays."
   ]
  },
  {
   "cell_type": "code",
   "execution_count": 0,
   "id": "23faac",
   "metadata": {
    "collapsed": false
   },
   "outputs": [
   ],
   "source": [
   ]
  },
  {
   "cell_type": "markdown",
   "id": "e474eb",
   "metadata": {
    "collapsed": false
   },
   "source": [
    "Wrap each one in a Pandas `Series`."
   ]
  },
  {
   "cell_type": "code",
   "execution_count": 0,
   "id": "49faa7",
   "metadata": {
    "collapsed": false
   },
   "outputs": [
   ],
   "source": [
   ]
  },
  {
   "cell_type": "markdown",
   "id": "9ef224",
   "metadata": {
    "collapsed": false
   },
   "source": [
    "Use a Pandas method to create two new `Series`es -- one called `top_ten_cool` and the other called `top_ten_dumb` -- that contain the top ten coolest/dumbest slang words according to the class. The keys of these `Series`es should be the slang words, and the values should be the number of cool/dumb votes each one got.\n",
    "\n",
    "**_Note_: each of these two `Series`es should be created with one line of code, or possibly two if you're wordy. You should *absolutely not* be counting anything manually or creating a `Series` by hand!** Let Pandas do the work."
   ]
  },
  {
   "cell_type": "code",
   "execution_count": 0,
   "id": "3ec122",
   "metadata": {
    "collapsed": false
   },
   "outputs": [
   ],
   "source": [
   ]
  },
  {
   "cell_type": "markdown",
   "id": "c42ced",
   "metadata": {
    "collapsed": false
   },
   "source": [
    "Now create a Pandas `Series` called `best_slang_words` which contain the ten overall best slang words according to the class. For each \"cool\" vote that a slang word got, it gets a point towards being one of the best. For each \"dumb\" vote it got, it loses a point. (For example: if the slang word `\"bae\"` got 5 cool votes and 7 dumb votes, it would get an overall score of -2.)\n",
    "\n",
    "Similarly, create a `Series` called `worst_slang_words` with the ten overall dumbest terms.\n",
    "\n",
    "(Again, this is totally trivially easy if you just think about it and use the correct Pandas operations. Absolutely **do not** start calculating things by hand: if you need to do that, you're doing it wrong.)\n",
    "\n",
    "(If you need a hint, see p.109 of the book.)"
   ]
  },
  {
   "cell_type": "code",
   "execution_count": 0,
   "id": "aa07b9",
   "metadata": {
    "collapsed": false
   },
   "outputs": [
   ],
   "source": [
   ]
  },
  {
   "cell_type": "markdown",
   "id": "122c74",
   "metadata": {
    "collapsed": false
   },
   "source": [
    "Finally, in the next two code cells, create two bar charts -- one (in the first cell) that shows the top ten \"overall best\" slang words and the score for each one, and a similar one (in the second cell) for \"overall worst.\" (Presumably most or all of the ten best words will have positive scores, and most or all of the ten worst words will have negative scores.) Make the \"best\" bar chart colored green (for \"yes, go use these Stephen!\"), and the \"worst\" one colored red (for \"STOP, Stephen, do NOT utter these!\")"
   ]
  },
  {
   "cell_type": "code",
   "execution_count": 0,
   "id": "0c4705",
   "metadata": {
    "collapsed": false
   },
   "outputs": [
   ],
   "source": [
   ]
  },
  {
   "cell_type": "code",
   "execution_count": 0,
   "id": "f6bd0e",
   "metadata": {
    "collapsed": false
   },
   "outputs": [
   ],
   "source": [
   ]
  },
  {
   "cell_type": "markdown",
   "id": "738d47",
   "metadata": {
    "collapsed": false
   },
   "source": [
    "# \"Of the reading of many books...\"\n",
    "The file \"`publishers.csv`\" contains information about Amazon e-book sales. Each row apparently represents one e-book, mostly those that have appeared on at least one Amazon best-seller list. (This data was retrieved from https://think.cs.vt.edu/corgis/csv/publishers/.)\n",
    "\n",
    "Read this CSV file into a `DataFrame` called `books`."
   ]
  },
  {
   "cell_type": "code",
   "execution_count": 0,
   "id": "810c79",
   "metadata": {
    "collapsed": false
   },
   "outputs": [
   ],
   "source": [
   ]
  },
  {
   "cell_type": "markdown",
   "id": "651228",
   "metadata": {
    "collapsed": false
   },
   "source": [
    "Print out `books.columns` to get a list of this (fairly large) `DataFrame`'s columns."
   ]
  },
  {
   "cell_type": "code",
   "execution_count": 0,
   "id": "e97ce5",
   "metadata": {
    "collapsed": false
   },
   "outputs": [
   ],
   "source": [
   ]
  },
  {
   "cell_type": "markdown",
   "id": "b85346",
   "metadata": {
    "collapsed": false
   },
   "source": [
    "The only columns we'll be using are \"`genre`\", \"`statistics.sale price`\", \"`statistics.total reviews`\", and \"`statistics.average rating`\". Restrict your `DataFrame` to have only these columns. **Make sure the columns are in this order**, and change them if they're not."
   ]
  },
  {
   "cell_type": "code",
   "execution_count": 0,
   "id": "72c5ee",
   "metadata": {
    "collapsed": false
   },
   "outputs": [
   ],
   "source": [
   ]
  },
  {
   "cell_type": "markdown",
   "id": "5e85cf",
   "metadata": {
    "collapsed": false
   },
   "source": [
    "_Optional_: I personally think it would suck to have to type those long and heinous column names every time you had to specify a column. I recommend you change the column names to shorter, easier-to-type substitutes, using the syntax \"`books.columns = [ ...your comma-separated column names... ]`\". (For example, I changed \"`statistics.average rating`\" to \"`rat`\" in my `DataFrame`.) That said, it's up to you."
   ]
  },
  {
   "cell_type": "code",
   "execution_count": 0,
   "id": "8619bc",
   "metadata": {
    "collapsed": false
   },
   "outputs": [
   ],
   "source": [
   ]
  },
  {
   "cell_type": "markdown",
   "id": "a83a55",
   "metadata": {
    "collapsed": false
   },
   "source": [
    "Which book genre is represented the most often in this e-book list? And which genre is represented the least? Set two variables `most_pop` and `least_pop` to contain the *names* of those two genres."
   ]
  },
  {
   "cell_type": "code",
   "execution_count": 0,
   "id": "1a1968",
   "metadata": {
    "collapsed": false
   },
   "outputs": [
   ],
   "source": [
   ]
  },
  {
   "cell_type": "markdown",
   "id": "a0c09a",
   "metadata": {
    "collapsed": false
   },
   "source": [
    "What percentage of these e-books are children's books? Set a float variable called `kid_perc` to contain this percentage (on a 0-to-100 scale)."
   ]
  },
  {
   "cell_type": "code",
   "execution_count": 0,
   "id": "d3beb2",
   "metadata": {
    "collapsed": false
   },
   "outputs": [
   ],
   "source": [
   ]
  },
  {
   "cell_type": "markdown",
   "id": "5ed348",
   "metadata": {
    "collapsed": false
   },
   "source": [
    "What's the most money that you personally would consider spending on an e-book that you really wanted? Set this to a Python float variable called `my_max_price`."
   ]
  },
  {
   "cell_type": "code",
   "execution_count": 0,
   "id": "d5d9f8",
   "metadata": {
    "collapsed": false
   },
   "outputs": [
   ],
   "source": [
   ]
  },
  {
   "cell_type": "markdown",
   "id": "87ea8a",
   "metadata": {
    "collapsed": false
   },
   "source": [
    "What's the average price of the e-books in this entire data set? And what's the price of the most expensive book? Set float variables called `avg_price` and `most_expensive` to contain these answers."
   ]
  },
  {
   "cell_type": "code",
   "execution_count": 0,
   "id": "4526f2",
   "metadata": {
    "collapsed": false
   },
   "outputs": [
   ],
   "source": [
   ]
  },
  {
   "cell_type": "markdown",
   "id": "64fa47",
   "metadata": {
    "collapsed": false
   },
   "source": [
    "What percentage (on a scale of 0 to 100) of the e-books in this data set are selling for over your maximum price, and hence you would never buy them? Set this to a Python float variable called `no_way_too_much`."
   ]
  },
  {
   "cell_type": "code",
   "execution_count": 0,
   "id": "3539cb",
   "metadata": {
    "collapsed": false
   },
   "outputs": [
   ],
   "source": [
   ]
  },
  {
   "cell_type": "markdown",
   "id": "1778c1",
   "metadata": {
    "collapsed": false
   },
   "source": [
    "Let's say you're authoring a new novel. How expensive would your book have to be in order to be more expensive than 99% of the e-books? Set the Python variable `how_expensive` to that price."
   ]
  },
  {
   "cell_type": "code",
   "execution_count": 0,
   "id": "234efc",
   "metadata": {
    "collapsed": false
   },
   "outputs": [
   ],
   "source": [
   ]
  },
  {
   "cell_type": "markdown",
   "id": "9682df",
   "metadata": {
    "collapsed": false
   },
   "source": [
    "What percentage of these e-books (on a scale of 0 to 100) cost less than one dollar? Set a float Python variable `under_a_buck` to this value."
   ]
  },
  {
   "cell_type": "code",
   "execution_count": 0,
   "id": "a251cc",
   "metadata": {
    "collapsed": false
   },
   "outputs": [
   ],
   "source": [
   ]
  },
  {
   "cell_type": "markdown",
   "id": "cf7dd1",
   "metadata": {
    "collapsed": false
   },
   "source": [
    "What percentage of these e-books (on a scale of 0 to 100) got between 100 and 1000 reviews? (Do include books with exactly 100 reviews in this total, but not those with exactly 1000 reviews.) Set a float Python variable called `hundreds_of_reviews_perc`."
   ]
  },
  {
   "cell_type": "code",
   "execution_count": 0,
   "id": "df4739",
   "metadata": {
    "collapsed": false
   },
   "outputs": [
   ],
   "source": [
   ]
  },
  {
   "cell_type": "markdown",
   "id": "375b76",
   "metadata": {
    "collapsed": false
   },
   "source": [
    "How highly would your book need to be rated, on average, in order to be among the most 20 highly-rated e-books? (Note: \"highly-rated\" means \"a high average rating,\" not \"a high number of reviews.\") Set a float Python variable called `top_20_threshold` with this average rating."
   ]
  },
  {
   "cell_type": "code",
   "execution_count": 0,
   "id": "566e69",
   "metadata": {
    "collapsed": false
   },
   "outputs": [
   ],
   "source": [
   ]
  },
  {
   "cell_type": "markdown",
   "id": "e50998",
   "metadata": {
    "collapsed": false
   },
   "source": [
    "How highly would your book need to be rated, on average, in order to be among the highest-rated 20% of e-books? (Note this is a different question than the previous! Also, as before, \"highly-rated\" means \"a high average rating,\" not \"a high number of reviews.\") Set a float Python variable called `top_20_percent_threshold` with this average rating."
   ]
  },
  {
   "cell_type": "code",
   "execution_count": 0,
   "id": "d43364",
   "metadata": {
    "collapsed": false
   },
   "outputs": [
   ],
   "source": [
   ]
  },
  {
   "cell_type": "markdown",
   "id": "47b993",
   "metadata": {
    "collapsed": false
   },
   "source": [
    "Create a green histogram of these e-books' prices. Then, print out a grammatically-correct one-sentence summary of what this histogram tells you."
   ]
  },
  {
   "cell_type": "code",
   "execution_count": 0,
   "id": "afa17e",
   "metadata": {
    "collapsed": false
   },
   "outputs": [
   ],
   "source": [
   ]
  },
  {
   "cell_type": "markdown",
   "id": "cb76b4",
   "metadata": {
    "collapsed": false
   },
   "source": [
    "Create a purple histogram of the number of reviews these books received. Then, print out a grammatically-correct one-sentence summary of what this histogram tells you."
   ]
  },
  {
   "cell_type": "code",
   "execution_count": 0,
   "id": "94ede1",
   "metadata": {
    "collapsed": false
   },
   "outputs": [
   ],
   "source": [
   ]
  },
  {
   "cell_type": "markdown",
   "id": "39492e",
   "metadata": {
    "collapsed": false
   },
   "source": [
    "Create an orange histogram of the average rating these books received. Then, print out a grammatically-correct one-sentence summary of what this histogram tells you."
   ]
  },
  {
   "cell_type": "code",
   "execution_count": 0,
   "id": "dbda7d",
   "metadata": {
    "collapsed": false
   },
   "outputs": [
   ],
   "source": [
   ]
  },
  {
   "cell_type": "markdown",
   "id": "2658dd",
   "metadata": {
    "collapsed": false
   },
   "source": [
    "Consider...which value do you think is highest: the IQR of the books' prices, the IQR of their number of reviews, or the IQR of their average ratings? Compute all three, and set a float Python variable called `highest_IQR` to the highest of these three."
   ]
  },
  {
   "cell_type": "code",
   "execution_count": 0,
   "id": "cfc11a",
   "metadata": {
    "collapsed": false
   },
   "outputs": [
   ],
   "source": [
   ]
  },
  {
   "cell_type": "markdown",
   "id": "0e5410",
   "metadata": {
    "collapsed": false
   },
   "source": [
    "# Check out\n",
    "Nice job! Now run the test script below to see if it all worked! (If not, go back and fix your errors.)"
   ]
  },
  {
   "cell_type": "code",
   "execution_count": 2,
   "id": "ccb228",
   "metadata": {
    "collapsed": false
   },
   "outputs": [
    {
     "name": "stdout",
     "output_type": "stream",
     "text": [
      "('Who are you?' incomplete.)\n",
      "('Most fuego' part 1 incomplete.)\n",
      "('Most fuego' part 2 incomplete.)\n",
      "('Most fuego' part 3 incomplete.)\n",
      "('Of the reading...' incomplete.)\n",
      "\n",
      "Final score: 0/20 (plus up to 6 points for your plots and descriptions)\n"
     ]
    }
   ],
   "source": [
    "import requests\n",
    "exec(requests.get(\"http://stephendavies.org/lab4checker.py\").content)"
   ]
  },
  {
   "cell_type": "code",
   "execution_count": 0,
   "id": "451ab0",
   "metadata": {
    "collapsed": false
   },
   "outputs": [
   ],
   "source": [
   ]
  },
  {
   "cell_type": "code",
   "execution_count": 0,
   "id": "1e6a1c",
   "metadata": {
    "collapsed": false
   },
   "outputs": [
   ],
   "source": [
   ]
  }
 ],
 "metadata": {
  "kernelspec": {
   "argv": [
    "/ext/venvs/cocalc/bin/python3",
    "-Xfrozen_modules=off",
    "-m",
    "ipykernel_launcher",
    "--HistoryManager.enabled=False",
    "--matplotlib=inline",
    "-c",
    "%config InlineBackend.figure_formats = set(['retina'])\nimport matplotlib; matplotlib.rcParams['figure.figsize'] = (12, 7)",
    "-f",
    "{connection_file}"
   ],
   "display_name": "Python 3 (CoCalc)",
   "env": {
   },
   "language": "python",
   "metadata": {
    "cocalc": {
     "description": "Python 3 system-wide environment. Use 'CoCalc' for the most complete Python environment.",
     "priority": 100,
     "url": "https://www.python.org/"
    },
    "debugger": true
   },
   "name": "python3",
   "resource_dir": "/ext/jupyter/kernels/python3"
  },
  "language_info": {
   "codemirror_mode": {
    "name": "ipython",
    "version": 3
   },
   "file_extension": ".py",
   "mimetype": "text/x-python",
   "name": "python",
   "nbconvert_exporter": "python",
   "pygments_lexer": "ipython3",
   "version": "3.7.8"
  }
 },
 "nbformat": 4,
 "nbformat_minor": 4
}