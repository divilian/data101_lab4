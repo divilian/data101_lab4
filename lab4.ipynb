{
  "cells": [
    {
      "cell_type": "markdown",
      "metadata": {
        "collapsed": false,
        "id": "5ee135"
      },
      "source": [
        "# Lab Four\n",
        "Welcome to DATA 101 lab four. This lab is **individual**, rather than team-based, and is to be completed **on your own**. This lab will be collected on **Friday, October 16 at 11:59pm**. Good luck!"
      ]
    },
    {
      "cell_type": "code",
      "source": [
        "import os, subprocess, pathlib\n",
        "\n",
        "REPO_URL = \"https://github.com/divilian/data101_lab4.git\"\n",
        "REPO_DIR = pathlib.Path(\"/content/data101_lab4\")\n",
        "\n",
        "if not REPO_DIR.exists():\n",
        "    # First time in this runtime: shallow clone\n",
        "    subprocess.run([\"git\", \"clone\", \"--depth\", \"1\", REPO_URL, str(REPO_DIR)], check=True)\n",
        "else:\n",
        "    # Already cloned in this runtime: make sure it's clean and up to date\n",
        "    subprocess.run([\"git\", \"-C\", str(REPO_DIR), \"fetch\", \"origin\", \"main\"], check=True)\n",
        "    subprocess.run([\"git\", \"-C\", str(REPO_DIR), \"checkout\", \"-f\", \"main\"], check=True)\n",
        "    subprocess.run([\"git\", \"-C\", str(REPO_DIR), \"reset\", \"--hard\", \"origin/main\"], check=True)\n",
        "\n",
        "# Work inside the repo from here on out\n",
        "%cd $REPO_DIR\n"
      ],
      "metadata": {
        "id": "rcaUa4VKNCPY"
      },
      "execution_count": null,
      "outputs": []
    },
    {
      "cell_type": "markdown",
      "metadata": {
        "collapsed": false,
        "id": "d52f02"
      },
      "source": [
        "# Who are you, anyway?\n",
        "In the cell below, create a NumPy array called `me_and_my_friend` with three elements: your first name, your last name, and the name of the imaginary friend you had as a child, in that order. (If you had no imaginary friend, create an imaginary friend now and name him/her/it. It's therapeutic.)"
      ]
    },
    {
      "cell_type": "code",
      "execution_count": null,
      "metadata": {
        "id": "8c3fce"
      },
      "outputs": [],
      "source": []
    },
    {
      "cell_type": "markdown",
      "metadata": {
        "collapsed": false,
        "id": "823ea9"
      },
      "source": [
        "# The most fuego of all (and the dumbest of the dumb)\n",
        "In a folder called \"`data`\", there are two files called `cool_slang.txt` and `dumb_slang.txt`. They contain the votes you and your classmates gave for the slang words in lab \\#3: each line of `cool_slang.txt` contains some team's vote for a cool slang word, and each line of `dumb_slang.txt` was a word some team thought was dumb.\n",
        "\n",
        "The following lines of code load those files into two Series."
      ]
    },
    {
      "cell_type": "code",
      "execution_count": null,
      "metadata": {
        "id": "23faac"
      },
      "outputs": [],
      "source": [
        "import pandas as pd\n",
        "cool_slang = pd.read_csv(\"data/cool_slang.txt\",header=None)\n",
        "dumb_slang = pd.read_csv(\"data/dumb_slang.txt\",header=None)"
      ]
    },
    {
      "cell_type": "markdown",
      "metadata": {
        "collapsed": false,
        "id": "9ef224"
      },
      "source": [
        "Use a Pandas method to create two new `Series`es -- one called `top_ten_cool` and the other called `top_ten_dumb` -- that contain the top ten coolest/dumbest slang words according to the class. The keys of these `Series`es should be the slang words, and the values should be the number of cool/dumb votes each one got.\n",
        "\n",
        "**_Note_: each of these two `Series`es should be created with one line of code, or possibly two if you're wordy. You should *absolutely not* be counting anything manually or creating a `Series` by hand!** Let Pandas do the work."
      ]
    },
    {
      "cell_type": "code",
      "execution_count": null,
      "metadata": {
        "id": "3ec122"
      },
      "outputs": [],
      "source": []
    },
    {
      "cell_type": "markdown",
      "metadata": {
        "collapsed": false,
        "id": "c42ced"
      },
      "source": [
        "Now create a Pandas `Series` called `best_slang_words` which contain the ten overall best slang words according to the class. For each \"cool\" vote that a slang word got, it gets a point towards being one of the best. For each \"dumb\" vote it got, it loses a point. (For example: if the slang word `\"bae\"` got 5 cool votes and 7 dumb votes, it would get an overall score of -2.)\n",
        "\n",
        "Similarly, create a `Series` called `worst_slang_words` with the ten overall dumbest terms.\n",
        "\n",
        "(Again, this is totally trivially easy if you just think about it and use the correct Pandas operations. Absolutely **do not** start calculating things by hand: if you need to do that, you're doing it wrong.)\n",
        "\n",
        "(If you need a hint, see p.109 of the book.)"
      ]
    },
    {
      "cell_type": "code",
      "execution_count": null,
      "metadata": {
        "id": "aa07b9"
      },
      "outputs": [],
      "source": []
    },
    {
      "cell_type": "markdown",
      "metadata": {
        "collapsed": false,
        "id": "122c74"
      },
      "source": [
        "Finally, in the next two code cells, create two bar charts -- one (in the first cell) that shows the top ten \"overall best\" slang words and the score for each one, and a similar one (in the second cell) for \"overall worst.\" (Presumably most or all of the ten best words will have positive scores, and most or all of the ten worst words will have negative scores.) Make the \"best\" bar chart colored green (for \"yes, go use these Stephen!\"), and the \"worst\" one colored red (for \"STOP, Stephen, do NOT utter these!\")"
      ]
    },
    {
      "cell_type": "code",
      "execution_count": null,
      "metadata": {
        "id": "0c4705"
      },
      "outputs": [],
      "source": []
    },
    {
      "cell_type": "code",
      "execution_count": null,
      "metadata": {
        "id": "f6bd0e"
      },
      "outputs": [],
      "source": []
    },
    {
      "cell_type": "markdown",
      "metadata": {
        "collapsed": false,
        "id": "738d47"
      },
      "source": [
        "# \"Of the reading of many books...\"\n",
        "The file \"`data/publishers.csv`\" contains information about Amazon e-book sales. Each row apparently represents one e-book, mostly those that have appeared on at least one Amazon best-seller list. (This data was retrieved from https://think.cs.vt.edu/corgis/csv/publishers/.)\n",
        "\n",
        "Read this CSV file into a `DataFrame` called `books`."
      ]
    },
    {
      "cell_type": "code",
      "execution_count": null,
      "metadata": {
        "id": "810c79"
      },
      "outputs": [],
      "source": []
    },
    {
      "cell_type": "markdown",
      "metadata": {
        "collapsed": false,
        "id": "651228"
      },
      "source": [
        "Print out `books.columns` to get a list of this (fairly large) `DataFrame`'s columns."
      ]
    },
    {
      "cell_type": "code",
      "execution_count": null,
      "metadata": {
        "id": "e97ce5"
      },
      "outputs": [],
      "source": []
    },
    {
      "cell_type": "markdown",
      "metadata": {
        "collapsed": false,
        "id": "b85346"
      },
      "source": [
        "The only columns we'll be using are \"`genre`\", \"`statistics.sale price`\", \"`statistics.total reviews`\", and \"`statistics.average rating`\". Restrict your `DataFrame` to have only these columns. **Make sure the columns are in this order**, and change them if they're not."
      ]
    },
    {
      "cell_type": "code",
      "execution_count": null,
      "metadata": {
        "id": "72c5ee"
      },
      "outputs": [],
      "source": []
    },
    {
      "cell_type": "markdown",
      "metadata": {
        "collapsed": false,
        "id": "5e85cf"
      },
      "source": [
        "_Optional_: I personally think it would suck to have to type those long and heinous column names every time you had to specify a column. I recommend you change the column names to shorter, easier-to-type substitutes, using the syntax \"`books.columns = [ ...your comma-separated column names... ]`\". (For example, I changed \"`statistics.average rating`\" to \"`rat`\" in my `DataFrame`.) That said, it's up to you."
      ]
    },
    {
      "cell_type": "code",
      "execution_count": null,
      "metadata": {
        "id": "8619bc"
      },
      "outputs": [],
      "source": []
    },
    {
      "cell_type": "markdown",
      "metadata": {
        "collapsed": false,
        "id": "a83a55"
      },
      "source": [
        "Which book genre is represented the most often in this e-book list? And which genre is represented the least? Set two variables `most_pop` and `least_pop` to contain the *names* of those two genres."
      ]
    },
    {
      "cell_type": "code",
      "execution_count": null,
      "metadata": {
        "id": "1a1968"
      },
      "outputs": [],
      "source": []
    },
    {
      "cell_type": "markdown",
      "metadata": {
        "collapsed": false,
        "id": "a0c09a"
      },
      "source": [
        "What percentage of these e-books are children's books? Set a float variable called `kid_perc` to contain this percentage (on a 0-to-100 scale)."
      ]
    },
    {
      "cell_type": "code",
      "execution_count": null,
      "metadata": {
        "id": "d3beb2"
      },
      "outputs": [],
      "source": []
    },
    {
      "cell_type": "markdown",
      "metadata": {
        "collapsed": false,
        "id": "5ed348"
      },
      "source": [
        "What's the most money that you personally would consider spending on an e-book that you really wanted? Set this to a Python float variable called `my_max_price`."
      ]
    },
    {
      "cell_type": "code",
      "execution_count": null,
      "metadata": {
        "id": "d5d9f8"
      },
      "outputs": [],
      "source": []
    },
    {
      "cell_type": "markdown",
      "metadata": {
        "collapsed": false,
        "id": "87ea8a"
      },
      "source": [
        "What's the average price of the e-books in this entire data set? And what's the price of the most expensive book? Set float variables called `avg_price` and `most_expensive` to contain these answers."
      ]
    },
    {
      "cell_type": "code",
      "execution_count": null,
      "metadata": {
        "id": "4526f2"
      },
      "outputs": [],
      "source": []
    },
    {
      "cell_type": "markdown",
      "metadata": {
        "collapsed": false,
        "id": "64fa47"
      },
      "source": [
        "What percentage (on a scale of 0 to 100) of the e-books in this data set are selling for over your maximum price, and hence you would never buy them? Set this to a Python float variable called `no_way_too_much`."
      ]
    },
    {
      "cell_type": "code",
      "execution_count": null,
      "metadata": {
        "id": "3539cb"
      },
      "outputs": [],
      "source": []
    },
    {
      "cell_type": "markdown",
      "metadata": {
        "collapsed": false,
        "id": "1778c1"
      },
      "source": [
        "Let's say you're authoring a new novel. How expensive would your book have to be in order to be more expensive than 99% of the e-books? Set the Python variable `how_expensive` to that price."
      ]
    },
    {
      "cell_type": "code",
      "execution_count": null,
      "metadata": {
        "id": "234efc"
      },
      "outputs": [],
      "source": []
    },
    {
      "cell_type": "markdown",
      "metadata": {
        "collapsed": false,
        "id": "9682df"
      },
      "source": [
        "What percentage of these e-books (on a scale of 0 to 100) cost less than one dollar? Set a float Python variable `under_a_buck` to this value."
      ]
    },
    {
      "cell_type": "code",
      "execution_count": null,
      "metadata": {
        "id": "a251cc"
      },
      "outputs": [],
      "source": []
    },
    {
      "cell_type": "markdown",
      "metadata": {
        "collapsed": false,
        "id": "cf7dd1"
      },
      "source": [
        "What percentage of these e-books (on a scale of 0 to 100) got between 100 and 1000 reviews? (Do include books with exactly 100 reviews in this total, but not those with exactly 1000 reviews.) Set a float Python variable called `hundreds_of_reviews_perc`."
      ]
    },
    {
      "cell_type": "code",
      "execution_count": null,
      "metadata": {
        "id": "df4739"
      },
      "outputs": [],
      "source": []
    },
    {
      "cell_type": "markdown",
      "metadata": {
        "collapsed": false,
        "id": "375b76"
      },
      "source": [
        "How highly would your book need to be rated, on average, in order to be among the most 20 highly-rated e-books? (Note: \"highly-rated\" means \"a high average rating,\" not \"a high number of reviews.\") Set a float Python variable called `top_20_threshold` with this average rating."
      ]
    },
    {
      "cell_type": "code",
      "execution_count": null,
      "metadata": {
        "id": "566e69"
      },
      "outputs": [],
      "source": []
    },
    {
      "cell_type": "markdown",
      "metadata": {
        "collapsed": false,
        "id": "e50998"
      },
      "source": [
        "How highly would your book need to be rated, on average, in order to be among the highest-rated 20% of e-books? (Note this is a different question than the previous! Also, as before, \"highly-rated\" means \"a high average rating,\" not \"a high number of reviews.\") Set a float Python variable called `top_20_percent_threshold` with this average rating."
      ]
    },
    {
      "cell_type": "code",
      "execution_count": null,
      "metadata": {
        "id": "d43364"
      },
      "outputs": [],
      "source": []
    },
    {
      "cell_type": "markdown",
      "metadata": {
        "collapsed": false,
        "id": "47b993"
      },
      "source": [
        "Create a green histogram of these e-books' prices. Then, print out a grammatically-correct one-sentence summary of what this histogram tells you."
      ]
    },
    {
      "cell_type": "code",
      "execution_count": null,
      "metadata": {
        "id": "afa17e"
      },
      "outputs": [],
      "source": []
    },
    {
      "cell_type": "markdown",
      "metadata": {
        "collapsed": false,
        "id": "cb76b4"
      },
      "source": [
        "Create a purple histogram of the number of reviews these books received. Then, print out a grammatically-correct one-sentence summary of what this histogram tells you."
      ]
    },
    {
      "cell_type": "code",
      "execution_count": null,
      "metadata": {
        "id": "94ede1"
      },
      "outputs": [],
      "source": []
    },
    {
      "cell_type": "markdown",
      "metadata": {
        "collapsed": false,
        "id": "39492e"
      },
      "source": [
        "Create an orange histogram of the average rating these books received. Then, print out a grammatically-correct one-sentence summary of what this histogram tells you."
      ]
    },
    {
      "cell_type": "code",
      "execution_count": null,
      "metadata": {
        "id": "dbda7d"
      },
      "outputs": [],
      "source": []
    },
    {
      "cell_type": "markdown",
      "metadata": {
        "collapsed": false,
        "id": "2658dd"
      },
      "source": [
        "Consider...which value do you think is highest: the IQR of the books' prices, the IQR of their number of reviews, or the IQR of their average ratings? Compute all three, and set a float Python variable called `highest_IQR` to the highest of these three."
      ]
    },
    {
      "cell_type": "code",
      "execution_count": null,
      "metadata": {
        "id": "cfc11a"
      },
      "outputs": [],
      "source": []
    },
    {
      "cell_type": "markdown",
      "metadata": {
        "collapsed": false,
        "id": "0e5410"
      },
      "source": [
        "# Check out\n",
        "Nice job! Now run the test script below to see if it all worked! (If not, go back and fix your errors.)"
      ]
    },
    {
      "cell_type": "code",
      "execution_count": null,
      "metadata": {
        "id": "ccb228"
      },
      "outputs": [],
      "source": [
        "import requests\n",
        "exec(requests.get(\"http://stephendavies.org/lab4checker.py\").content)"
      ]
    },
    {
      "cell_type": "code",
      "execution_count": null,
      "metadata": {
        "id": "451ab0"
      },
      "outputs": [],
      "source": []
    },
    {
      "cell_type": "code",
      "execution_count": null,
      "metadata": {
        "id": "1e6a1c"
      },
      "outputs": [],
      "source": []
    }
  ],
  "metadata": {
    "kernelspec": {
      "argv": [
        "/ext/venvs/cocalc/bin/python3",
        "-Xfrozen_modules=off",
        "-m",
        "ipykernel_launcher",
        "--HistoryManager.enabled=False",
        "--matplotlib=inline",
        "-c",
        "%config InlineBackend.figure_formats = set(['retina'])\nimport matplotlib; matplotlib.rcParams['figure.figsize'] = (12, 7)",
        "-f",
        "{connection_file}"
      ],
      "display_name": "Python 3 (CoCalc)",
      "env": {},
      "language": "python",
      "metadata": {
        "cocalc": {
          "description": "Python 3 system-wide environment. Use 'CoCalc' for the most complete Python environment.",
          "priority": 100,
          "url": "https://www.python.org/"
        },
        "debugger": true
      },
      "name": "python3",
      "resource_dir": "/ext/jupyter/kernels/python3"
    },
    "language_info": {
      "codemirror_mode": {
        "name": "ipython",
        "version": 3
      },
      "file_extension": ".py",
      "mimetype": "text/x-python",
      "name": "python",
      "nbconvert_exporter": "python",
      "pygments_lexer": "ipython3",
      "version": "3.7.8"
    },
    "colab": {
      "provenance": []
    }
  },
  "nbformat": 4,
  "nbformat_minor": 0
}